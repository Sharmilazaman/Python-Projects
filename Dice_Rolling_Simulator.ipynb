{
  "nbformat": 4,
  "nbformat_minor": 0,
  "metadata": {
    "colab": {
      "name": "Dice Rolling Simulator.ipynb",
      "provenance": [],
      "authorship_tag": "ABX9TyMew1yBS13zE1dfD+6wTB9b",
      "include_colab_link": true
    },
    "kernelspec": {
      "name": "python3",
      "display_name": "Python 3"
    },
    "language_info": {
      "name": "python"
    }
  },
  "cells": [
    {
      "cell_type": "markdown",
      "metadata": {
        "id": "view-in-github",
        "colab_type": "text"
      },
      "source": [
        "<a href=\"https://colab.research.google.com/github/Sharmilazaman/Python-Projects/blob/main/Dice_Rolling_Simulator.ipynb\" target=\"_parent\"><img src=\"https://colab.research.google.com/assets/colab-badge.svg\" alt=\"Open In Colab\"/></a>"
      ]
    },
    {
      "cell_type": "code",
      "metadata": {
        "colab": {
          "base_uri": "https://localhost:8080/"
        },
        "id": "2qjv3pxAlHym",
        "outputId": "533295d7-5c34-4d38-f72b-631f4b4c1d88"
      },
      "source": [
        "import random\n",
        "while True:\n",
        "    print('''1.Roll the dice        2. Exit     ''')\n",
        "    user=int(input(\"Enter 1 or 2\"))\n",
        "    if user==1:\n",
        "        number = random.randint(1,6)\n",
        "        print(number)\n",
        "    else:\n",
        "        break    \n",
        "        "
      ],
      "execution_count": null,
      "outputs": [
        {
          "output_type": "stream",
          "text": [
            "1.Roll the dice        2. Exit     \n",
            "6\n",
            "1.Roll the dice        2. Exit     \n",
            "3\n",
            "1.Roll the dice        2. Exit     \n"
          ],
          "name": "stdout"
        }
      ]
    }
  ]
}