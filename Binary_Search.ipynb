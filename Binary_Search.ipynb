{
  "nbformat": 4,
  "nbformat_minor": 0,
  "metadata": {
    "colab": {
      "name": "Binary Search.ipynb",
      "provenance": [],
      "authorship_tag": "ABX9TyPW0YVbT4IF/aIKzRkkZZtK",
      "include_colab_link": true
    },
    "kernelspec": {
      "name": "python3",
      "display_name": "Python 3"
    },
    "language_info": {
      "name": "python"
    }
  },
  "cells": [
    {
      "cell_type": "markdown",
      "metadata": {
        "id": "view-in-github",
        "colab_type": "text"
      },
      "source": [
        "<a href=\"https://colab.research.google.com/github/Sharmilazaman/Python-Projects/blob/main/Binary_Search.ipynb\" target=\"_parent\"><img src=\"https://colab.research.google.com/assets/colab-badge.svg\" alt=\"Open In Colab\"/></a>"
      ]
    },
    {
      "cell_type": "code",
      "metadata": {
        "colab": {
          "base_uri": "https://localhost:8080/"
        },
        "id": "jyD2fEUgkjaT",
        "outputId": "b0ddcd49-ea3b-4210-a2f4-9cef1a0a6110"
      },
      "source": [
        "lst = [1,3,2,4,5,6,9,8,7,10]\n",
        "lst.sort()\n",
        "first=0\n",
        "last=len(lst)-1\n",
        "mid = (first+last)//2\n",
        "item = int(input(\"enter the number to be search\"))\n",
        "found = False\n",
        "while( first<=last and not found):\n",
        "    mid = (first + last)//2\n",
        "    if lst[mid] == item :\n",
        "         print(f\"found at location {mid}\")\n",
        "         found= True\n",
        "    else:\n",
        "        if item < lst[mid]:\n",
        "            last = mid - 1\n",
        "        else:\n",
        "            first = mid + 1 \n",
        "   \n",
        "if found == False:\n",
        "    print(\"Number not found\")"
      ],
      "execution_count": 1,
      "outputs": [
        {
          "output_type": "stream",
          "text": [
            "enter the number to be search4\n",
            "found at location 3\n"
          ],
          "name": "stdout"
        }
      ]
    }
  ]
}