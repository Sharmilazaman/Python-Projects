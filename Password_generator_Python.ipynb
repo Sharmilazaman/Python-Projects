{
  "nbformat": 4,
  "nbformat_minor": 0,
  "metadata": {
    "colab": {
      "name": "Password generator Python.ipynb",
      "provenance": [],
      "collapsed_sections": [],
      "authorship_tag": "ABX9TyNE4D2/jCZsp+SUiuNUbI0r",
      "include_colab_link": true
    },
    "kernelspec": {
      "name": "python3",
      "display_name": "Python 3"
    },
    "language_info": {
      "name": "python"
    }
  },
  "cells": [
    {
      "cell_type": "markdown",
      "metadata": {
        "id": "view-in-github",
        "colab_type": "text"
      },
      "source": [
        "<a href=\"https://colab.research.google.com/github/Sharmilazaman/Python-Projects/blob/main/Password_generator_Python.ipynb\" target=\"_parent\"><img src=\"https://colab.research.google.com/assets/colab-badge.svg\" alt=\"Open In Colab\"/></a>"
      ]
    },
    {
      "cell_type": "code",
      "metadata": {
        "colab": {
          "base_uri": "https://localhost:8080/"
        },
        "id": "gjJcl3fMYX_U",
        "outputId": "0742c68f-0eec-440b-ffa1-0aa239eaafce"
      },
      "source": [
        "import random\n",
        "passlen = int(input(\"Enter The length of Password: \"))\n",
        "s=\"abcdefghijklmnopqrstuvwxyz0123456789ABCDEFGHIJKLMNOPQRSTUVWXYZ!@#$%^&*()\"\n",
        "p=\"\".join(random.sample(s,passlen))\n",
        "print(p)\n"
      ],
      "execution_count": 3,
      "outputs": [
        {
          "output_type": "stream",
          "text": [
            "Enter The length of Password: 6\n",
            "&6!MxD\n"
          ],
          "name": "stdout"
        }
      ]
    }
  ]
}